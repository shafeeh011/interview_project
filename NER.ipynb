{
 "cells": [
  {
   "cell_type": "markdown",
   "metadata": {},
   "source": [
    "## **Step 1: Install Required Libraries**"
   ]
  },
  {
   "cell_type": "code",
   "execution_count": 9,
   "metadata": {},
   "outputs": [
    {
     "name": "stdout",
     "output_type": "stream",
     "text": [
      "Requirement already satisfied: spacy in d:\\interview_project\\salescopilot\\venv\\lib\\site-packages (3.4.4)\n",
      "Requirement already satisfied: tqdm in d:\\interview_project\\salescopilot\\venv\\lib\\site-packages (4.67.1)\n",
      "Requirement already satisfied: spacy-legacy<3.1.0,>=3.0.10 in d:\\interview_project\\salescopilot\\venv\\lib\\site-packages (from spacy) (3.0.12)\n",
      "Requirement already satisfied: spacy-loggers<2.0.0,>=1.0.0 in d:\\interview_project\\salescopilot\\venv\\lib\\site-packages (from spacy) (1.0.5)\n",
      "Requirement already satisfied: murmurhash<1.1.0,>=0.28.0 in d:\\interview_project\\salescopilot\\venv\\lib\\site-packages (from spacy) (1.0.12)\n",
      "Requirement already satisfied: cymem<2.1.0,>=2.0.2 in d:\\interview_project\\salescopilot\\venv\\lib\\site-packages (from spacy) (2.0.11)\n",
      "Requirement already satisfied: preshed<3.1.0,>=3.0.2 in d:\\interview_project\\salescopilot\\venv\\lib\\site-packages (from spacy) (3.0.9)\n",
      "Requirement already satisfied: thinc<8.2.0,>=8.1.0 in d:\\interview_project\\salescopilot\\venv\\lib\\site-packages (from spacy) (8.1.12)\n",
      "Requirement already satisfied: wasabi<1.1.0,>=0.9.1 in d:\\interview_project\\salescopilot\\venv\\lib\\site-packages (from spacy) (0.10.1)\n",
      "Requirement already satisfied: srsly<3.0.0,>=2.4.3 in d:\\interview_project\\salescopilot\\venv\\lib\\site-packages (from spacy) (2.5.1)\n",
      "Requirement already satisfied: catalogue<2.1.0,>=2.0.6 in d:\\interview_project\\salescopilot\\venv\\lib\\site-packages (from spacy) (2.0.10)\n",
      "Requirement already satisfied: typer<0.8.0,>=0.3.0 in d:\\interview_project\\salescopilot\\venv\\lib\\site-packages (from spacy) (0.7.0)\n",
      "Requirement already satisfied: pathy>=0.3.5 in d:\\interview_project\\salescopilot\\venv\\lib\\site-packages (from spacy) (0.11.0)\n",
      "Requirement already satisfied: smart-open<7.0.0,>=5.2.1 in d:\\interview_project\\salescopilot\\venv\\lib\\site-packages (from spacy) (6.4.0)\n",
      "Requirement already satisfied: numpy>=1.15.0 in d:\\interview_project\\salescopilot\\venv\\lib\\site-packages (from spacy) (1.24.3)\n",
      "Requirement already satisfied: requests<3.0.0,>=2.13.0 in d:\\interview_project\\salescopilot\\venv\\lib\\site-packages (from spacy) (2.32.3)\n",
      "Requirement already satisfied: pydantic!=1.8,!=1.8.1,<1.11.0,>=1.7.4 in d:\\interview_project\\salescopilot\\venv\\lib\\site-packages (from spacy) (1.10.21)\n",
      "Requirement already satisfied: jinja2 in d:\\interview_project\\salescopilot\\venv\\lib\\site-packages (from spacy) (3.1.6)\n",
      "Requirement already satisfied: setuptools in d:\\interview_project\\salescopilot\\venv\\lib\\site-packages (from spacy) (75.8.0)\n",
      "Requirement already satisfied: packaging>=20.0 in d:\\interview_project\\salescopilot\\venv\\lib\\site-packages (from spacy) (24.2)\n",
      "Requirement already satisfied: langcodes<4.0.0,>=3.2.0 in d:\\interview_project\\salescopilot\\venv\\lib\\site-packages (from spacy) (3.5.0)\n",
      "Requirement already satisfied: colorama in d:\\interview_project\\salescopilot\\venv\\lib\\site-packages (from tqdm) (0.4.6)\n",
      "Requirement already satisfied: language-data>=1.2 in d:\\interview_project\\salescopilot\\venv\\lib\\site-packages (from langcodes<4.0.0,>=3.2.0->spacy) (1.3.0)\n",
      "Requirement already satisfied: pathlib-abc==0.1.1 in d:\\interview_project\\salescopilot\\venv\\lib\\site-packages (from pathy>=0.3.5->spacy) (0.1.1)\n",
      "Requirement already satisfied: typing-extensions>=4.2.0 in d:\\interview_project\\salescopilot\\venv\\lib\\site-packages (from pydantic!=1.8,!=1.8.1,<1.11.0,>=1.7.4->spacy) (4.12.2)\n",
      "Requirement already satisfied: charset-normalizer<4,>=2 in d:\\interview_project\\salescopilot\\venv\\lib\\site-packages (from requests<3.0.0,>=2.13.0->spacy) (3.4.1)\n",
      "Requirement already satisfied: idna<4,>=2.5 in d:\\interview_project\\salescopilot\\venv\\lib\\site-packages (from requests<3.0.0,>=2.13.0->spacy) (3.10)\n",
      "Requirement already satisfied: urllib3<3,>=1.21.1 in d:\\interview_project\\salescopilot\\venv\\lib\\site-packages (from requests<3.0.0,>=2.13.0->spacy) (1.26.20)\n",
      "Requirement already satisfied: certifi>=2017.4.17 in d:\\interview_project\\salescopilot\\venv\\lib\\site-packages (from requests<3.0.0,>=2.13.0->spacy) (2025.1.31)\n",
      "Requirement already satisfied: blis<0.8.0,>=0.7.8 in d:\\interview_project\\salescopilot\\venv\\lib\\site-packages (from thinc<8.2.0,>=8.1.0->spacy) (0.7.11)\n",
      "Requirement already satisfied: confection<1.0.0,>=0.0.1 in d:\\interview_project\\salescopilot\\venv\\lib\\site-packages (from thinc<8.2.0,>=8.1.0->spacy) (0.1.5)\n",
      "Requirement already satisfied: click<9.0.0,>=7.1.1 in d:\\interview_project\\salescopilot\\venv\\lib\\site-packages (from typer<0.8.0,>=0.3.0->spacy) (8.1.8)\n",
      "Requirement already satisfied: MarkupSafe>=2.0 in d:\\interview_project\\salescopilot\\venv\\lib\\site-packages (from jinja2->spacy) (3.0.2)\n",
      "Requirement already satisfied: marisa-trie>=1.1.0 in d:\\interview_project\\salescopilot\\venv\\lib\\site-packages (from language-data>=1.2->langcodes<4.0.0,>=3.2.0->spacy) (1.2.1)\n"
     ]
    }
   ],
   "source": [
    "!pip install spacy tqdm"
   ]
  },
  {
   "cell_type": "markdown",
   "metadata": {},
   "source": [
    "## **Step 2: Download the spaCy Model**"
   ]
  },
  {
   "cell_type": "code",
   "execution_count": 10,
   "metadata": {},
   "outputs": [
    {
     "name": "stdout",
     "output_type": "stream",
     "text": [
      "Collecting en-core-web-sm==3.4.1\n",
      "  Downloading https://github.com/explosion/spacy-models/releases/download/en_core_web_sm-3.4.1/en_core_web_sm-3.4.1-py3-none-any.whl (12.8 MB)\n",
      "     ---------------------------------------- 0.0/12.8 MB ? eta -:--:--\n",
      "      --------------------------------------- 0.3/12.8 MB ? eta -:--:--\n",
      "     -- ------------------------------------- 0.8/12.8 MB 2.6 MB/s eta 0:00:05\n",
      "     ---- ----------------------------------- 1.3/12.8 MB 2.5 MB/s eta 0:00:05\n",
      "     ----- ---------------------------------- 1.8/12.8 MB 2.5 MB/s eta 0:00:05\n",
      "     ------- -------------------------------- 2.4/12.8 MB 2.4 MB/s eta 0:00:05\n",
      "     --------- ------------------------------ 2.9/12.8 MB 2.5 MB/s eta 0:00:05\n",
      "     ---------- ----------------------------- 3.4/12.8 MB 2.5 MB/s eta 0:00:04\n",
      "     ------------ --------------------------- 3.9/12.8 MB 2.4 MB/s eta 0:00:04\n",
      "     ------------- -------------------------- 4.5/12.8 MB 2.4 MB/s eta 0:00:04\n",
      "     --------------- ------------------------ 5.0/12.8 MB 2.5 MB/s eta 0:00:04\n",
      "     ----------------- ---------------------- 5.5/12.8 MB 2.4 MB/s eta 0:00:03\n",
      "     ------------------ --------------------- 6.0/12.8 MB 2.4 MB/s eta 0:00:03\n",
      "     -------------------- ------------------- 6.6/12.8 MB 2.4 MB/s eta 0:00:03\n",
      "     -------------------- ------------------- 6.6/12.8 MB 2.4 MB/s eta 0:00:03\n",
      "     --------------------- ------------------ 6.8/12.8 MB 2.3 MB/s eta 0:00:03\n",
      "     ---------------------- ----------------- 7.1/12.8 MB 2.1 MB/s eta 0:00:03\n",
      "     ---------------------- ----------------- 7.1/12.8 MB 2.1 MB/s eta 0:00:03\n",
      "     ---------------------- ----------------- 7.3/12.8 MB 2.0 MB/s eta 0:00:03\n",
      "     ----------------------- ---------------- 7.6/12.8 MB 1.9 MB/s eta 0:00:03\n",
      "     ------------------------ --------------- 7.9/12.8 MB 1.9 MB/s eta 0:00:03\n",
      "     ------------------------- -------------- 8.1/12.8 MB 1.9 MB/s eta 0:00:03\n",
      "     --------------------------- ------------ 8.7/12.8 MB 1.8 MB/s eta 0:00:03\n",
      "     --------------------------- ------------ 8.9/12.8 MB 1.8 MB/s eta 0:00:03\n",
      "     ---------------------------- ----------- 9.2/12.8 MB 1.8 MB/s eta 0:00:02\n",
      "     ----------------------------- ---------- 9.4/12.8 MB 1.8 MB/s eta 0:00:02\n",
      "     ------------------------------ --------- 9.7/12.8 MB 1.8 MB/s eta 0:00:02\n",
      "     ------------------------------- -------- 10.2/12.8 MB 1.8 MB/s eta 0:00:02\n",
      "     --------------------------------- ------ 10.7/12.8 MB 1.8 MB/s eta 0:00:02\n",
      "     ---------------------------------- ----- 11.0/12.8 MB 1.8 MB/s eta 0:00:01\n",
      "     ------------------------------------ --- 11.5/12.8 MB 1.8 MB/s eta 0:00:01\n",
      "     ------------------------------------- -- 12.1/12.8 MB 1.8 MB/s eta 0:00:01\n",
      "     -------------------------------------- - 12.3/12.8 MB 1.8 MB/s eta 0:00:01\n",
      "     ---------------------------------------- 12.8/12.8 MB 1.8 MB/s eta 0:00:00\n",
      "Requirement already satisfied: spacy<3.5.0,>=3.4.0 in d:\\interview_project\\salescopilot\\venv\\lib\\site-packages (from en-core-web-sm==3.4.1) (3.4.4)\n",
      "Requirement already satisfied: spacy-legacy<3.1.0,>=3.0.10 in d:\\interview_project\\salescopilot\\venv\\lib\\site-packages (from spacy<3.5.0,>=3.4.0->en-core-web-sm==3.4.1) (3.0.12)\n",
      "Requirement already satisfied: spacy-loggers<2.0.0,>=1.0.0 in d:\\interview_project\\salescopilot\\venv\\lib\\site-packages (from spacy<3.5.0,>=3.4.0->en-core-web-sm==3.4.1) (1.0.5)\n",
      "Requirement already satisfied: murmurhash<1.1.0,>=0.28.0 in d:\\interview_project\\salescopilot\\venv\\lib\\site-packages (from spacy<3.5.0,>=3.4.0->en-core-web-sm==3.4.1) (1.0.12)\n",
      "Requirement already satisfied: cymem<2.1.0,>=2.0.2 in d:\\interview_project\\salescopilot\\venv\\lib\\site-packages (from spacy<3.5.0,>=3.4.0->en-core-web-sm==3.4.1) (2.0.11)\n",
      "Requirement already satisfied: preshed<3.1.0,>=3.0.2 in d:\\interview_project\\salescopilot\\venv\\lib\\site-packages (from spacy<3.5.0,>=3.4.0->en-core-web-sm==3.4.1) (3.0.9)\n",
      "Requirement already satisfied: thinc<8.2.0,>=8.1.0 in d:\\interview_project\\salescopilot\\venv\\lib\\site-packages (from spacy<3.5.0,>=3.4.0->en-core-web-sm==3.4.1) (8.1.12)\n",
      "Requirement already satisfied: wasabi<1.1.0,>=0.9.1 in d:\\interview_project\\salescopilot\\venv\\lib\\site-packages (from spacy<3.5.0,>=3.4.0->en-core-web-sm==3.4.1) (0.10.1)\n",
      "Requirement already satisfied: srsly<3.0.0,>=2.4.3 in d:\\interview_project\\salescopilot\\venv\\lib\\site-packages (from spacy<3.5.0,>=3.4.0->en-core-web-sm==3.4.1) (2.5.1)\n",
      "Requirement already satisfied: catalogue<2.1.0,>=2.0.6 in d:\\interview_project\\salescopilot\\venv\\lib\\site-packages (from spacy<3.5.0,>=3.4.0->en-core-web-sm==3.4.1) (2.0.10)\n",
      "Requirement already satisfied: typer<0.8.0,>=0.3.0 in d:\\interview_project\\salescopilot\\venv\\lib\\site-packages (from spacy<3.5.0,>=3.4.0->en-core-web-sm==3.4.1) (0.7.0)\n",
      "Requirement already satisfied: pathy>=0.3.5 in d:\\interview_project\\salescopilot\\venv\\lib\\site-packages (from spacy<3.5.0,>=3.4.0->en-core-web-sm==3.4.1) (0.11.0)\n",
      "Requirement already satisfied: smart-open<7.0.0,>=5.2.1 in d:\\interview_project\\salescopilot\\venv\\lib\\site-packages (from spacy<3.5.0,>=3.4.0->en-core-web-sm==3.4.1) (6.4.0)\n",
      "Requirement already satisfied: tqdm<5.0.0,>=4.38.0 in d:\\interview_project\\salescopilot\\venv\\lib\\site-packages (from spacy<3.5.0,>=3.4.0->en-core-web-sm==3.4.1) (4.67.1)\n",
      "Requirement already satisfied: numpy>=1.15.0 in d:\\interview_project\\salescopilot\\venv\\lib\\site-packages (from spacy<3.5.0,>=3.4.0->en-core-web-sm==3.4.1) (1.24.3)\n",
      "Requirement already satisfied: requests<3.0.0,>=2.13.0 in d:\\interview_project\\salescopilot\\venv\\lib\\site-packages (from spacy<3.5.0,>=3.4.0->en-core-web-sm==3.4.1) (2.32.3)\n",
      "Requirement already satisfied: pydantic!=1.8,!=1.8.1,<1.11.0,>=1.7.4 in d:\\interview_project\\salescopilot\\venv\\lib\\site-packages (from spacy<3.5.0,>=3.4.0->en-core-web-sm==3.4.1) (1.10.21)\n",
      "Requirement already satisfied: jinja2 in d:\\interview_project\\salescopilot\\venv\\lib\\site-packages (from spacy<3.5.0,>=3.4.0->en-core-web-sm==3.4.1) (3.1.6)\n",
      "Requirement already satisfied: setuptools in d:\\interview_project\\salescopilot\\venv\\lib\\site-packages (from spacy<3.5.0,>=3.4.0->en-core-web-sm==3.4.1) (75.8.0)\n",
      "Requirement already satisfied: packaging>=20.0 in d:\\interview_project\\salescopilot\\venv\\lib\\site-packages (from spacy<3.5.0,>=3.4.0->en-core-web-sm==3.4.1) (24.2)\n",
      "Requirement already satisfied: langcodes<4.0.0,>=3.2.0 in d:\\interview_project\\salescopilot\\venv\\lib\\site-packages (from spacy<3.5.0,>=3.4.0->en-core-web-sm==3.4.1) (3.5.0)\n",
      "Requirement already satisfied: language-data>=1.2 in d:\\interview_project\\salescopilot\\venv\\lib\\site-packages (from langcodes<4.0.0,>=3.2.0->spacy<3.5.0,>=3.4.0->en-core-web-sm==3.4.1) (1.3.0)\n",
      "Requirement already satisfied: pathlib-abc==0.1.1 in d:\\interview_project\\salescopilot\\venv\\lib\\site-packages (from pathy>=0.3.5->spacy<3.5.0,>=3.4.0->en-core-web-sm==3.4.1) (0.1.1)\n",
      "Requirement already satisfied: typing-extensions>=4.2.0 in d:\\interview_project\\salescopilot\\venv\\lib\\site-packages (from pydantic!=1.8,!=1.8.1,<1.11.0,>=1.7.4->spacy<3.5.0,>=3.4.0->en-core-web-sm==3.4.1) (4.12.2)\n",
      "Requirement already satisfied: charset-normalizer<4,>=2 in d:\\interview_project\\salescopilot\\venv\\lib\\site-packages (from requests<3.0.0,>=2.13.0->spacy<3.5.0,>=3.4.0->en-core-web-sm==3.4.1) (3.4.1)\n",
      "Requirement already satisfied: idna<4,>=2.5 in d:\\interview_project\\salescopilot\\venv\\lib\\site-packages (from requests<3.0.0,>=2.13.0->spacy<3.5.0,>=3.4.0->en-core-web-sm==3.4.1) (3.10)\n",
      "Requirement already satisfied: urllib3<3,>=1.21.1 in d:\\interview_project\\salescopilot\\venv\\lib\\site-packages (from requests<3.0.0,>=2.13.0->spacy<3.5.0,>=3.4.0->en-core-web-sm==3.4.1) (1.26.20)\n",
      "Requirement already satisfied: certifi>=2017.4.17 in d:\\interview_project\\salescopilot\\venv\\lib\\site-packages (from requests<3.0.0,>=2.13.0->spacy<3.5.0,>=3.4.0->en-core-web-sm==3.4.1) (2025.1.31)\n",
      "Requirement already satisfied: blis<0.8.0,>=0.7.8 in d:\\interview_project\\salescopilot\\venv\\lib\\site-packages (from thinc<8.2.0,>=8.1.0->spacy<3.5.0,>=3.4.0->en-core-web-sm==3.4.1) (0.7.11)\n",
      "Requirement already satisfied: confection<1.0.0,>=0.0.1 in d:\\interview_project\\salescopilot\\venv\\lib\\site-packages (from thinc<8.2.0,>=8.1.0->spacy<3.5.0,>=3.4.0->en-core-web-sm==3.4.1) (0.1.5)\n",
      "Requirement already satisfied: colorama in d:\\interview_project\\salescopilot\\venv\\lib\\site-packages (from tqdm<5.0.0,>=4.38.0->spacy<3.5.0,>=3.4.0->en-core-web-sm==3.4.1) (0.4.6)\n",
      "Requirement already satisfied: click<9.0.0,>=7.1.1 in d:\\interview_project\\salescopilot\\venv\\lib\\site-packages (from typer<0.8.0,>=0.3.0->spacy<3.5.0,>=3.4.0->en-core-web-sm==3.4.1) (8.1.8)\n",
      "Requirement already satisfied: MarkupSafe>=2.0 in d:\\interview_project\\salescopilot\\venv\\lib\\site-packages (from jinja2->spacy<3.5.0,>=3.4.0->en-core-web-sm==3.4.1) (3.0.2)\n",
      "Requirement already satisfied: marisa-trie>=1.1.0 in d:\\interview_project\\salescopilot\\venv\\lib\\site-packages (from language-data>=1.2->langcodes<4.0.0,>=3.2.0->spacy<3.5.0,>=3.4.0->en-core-web-sm==3.4.1) (1.2.1)\n",
      "Installing collected packages: en-core-web-sm\n",
      "  Attempting uninstall: en-core-web-sm\n",
      "    Found existing installation: en_core_web_sm 3.8.0\n",
      "    Uninstalling en_core_web_sm-3.8.0:\n",
      "      Successfully uninstalled en_core_web_sm-3.8.0\n",
      "Successfully installed en-core-web-sm-3.4.1\n",
      "✔ Download and installation successful\n",
      "You can now load the package via spacy.load('en_core_web_sm')\n"
     ]
    }
   ],
   "source": [
    "!python -m spacy download en_core_web_sm"
   ]
  },
  {
   "cell_type": "markdown",
   "metadata": {},
   "source": [
    "## **1️. Define Entities for NER**"
   ]
  },
  {
   "cell_type": "markdown",
   "metadata": {},
   "source": [
    "Since you want to recognize which product a customer is asking about, you need to identify relevant entities.\n",
    "For example:\n",
    "\n",
    "Product Names (PRODUCT) → \"Dental EMR\", \"Practice Management Software\"\n",
    "\n",
    "Service Types (SERVICE) → \"Revenue Cycle Management\", \"Medical Billing\"\n",
    "\n",
    "Company Name (COMPANY) → \"SRS Web Solutions\""
   ]
  },
  {
   "cell_type": "markdown",
   "metadata": {},
   "source": [
    "## **2️. Choose an NER Approach**"
   ]
  },
  {
   "cell_type": "markdown",
   "metadata": {},
   "source": [
    "You have two main options:\n",
    "\n",
    "🔹 Option 1: Pre-trained NER Model (Fast but Less Accurate)\n",
    "1. Use a Hugging Face model like Blaze999/Medical-NER or dbmdz/bert-large-cased-finetuned-conll03-english.\n",
    "\n",
    "2. Extract entities from customer queries.\n",
    "\n",
    "3. Pros: Quick setup\n",
    "\n",
    "4. Cons: May not recognize your custom products well.\n",
    "\n",
    "🔹 Option 2: Custom NER Model (Best for Accuracy)\n",
    "\n",
    "1. Train a spaCy NER or Fine-tune BERT with labeled sales data.\n",
    "\n",
    "2. Examples:\n",
    "\n",
    "    . SRS Web Solutions offers Dental EMR. → { \"text\": \"Dental EMR\", \"label\": \"PRODUCT\" }\n",
    "\n",
    "    .  I need help with medical billing. → { \"text\": \"medical billing\", \"label\": \"SERVICE\" }\n",
    "\n",
    "3. Pros: High accuracy for your products\n",
    "\n",
    "4. cons: Needs training data."
   ]
  },
  {
   "cell_type": "markdown",
   "metadata": {},
   "source": [
    "## **3️. Implement a Basic NER Pipeline**\n",
    "\n",
    "Here’s a simple NER setup using spaCy:"
   ]
  },
  {
   "cell_type": "code",
   "execution_count": 8,
   "metadata": {},
   "outputs": [
    {
     "name": "stdout",
     "output_type": "stream",
     "text": [
      "======================================================================\n",
      "TRAINING WITH BLANK MODEL\n",
      "======================================================================\n",
      "Using blank model as requested...\n",
      "Added NER pipeline component.\n",
      "Adding entity labels...\n",
      "Added 2 labels: SERVICE, PRODUCT\n",
      "Splitting data into training and evaluation sets...\n",
      "Training data: 16 examples\n",
      "Evaluation data: 4 examples\n",
      "Disabling other pipelines during training: none\n",
      "Starting training for 100 iterations...\n"
     ]
    },
    {
     "name": "stderr",
     "output_type": "stream",
     "text": [
      "Iteration 1/100: 100%|██████████| 4/4 [00:00<00:00, 41.05it/s]\n"
     ]
    },
    {
     "name": "stdout",
     "output_type": "stream",
     "text": [
      "Iteration 1, Loss: {'ner': 85.57232841104269}\n"
     ]
    },
    {
     "name": "stderr",
     "output_type": "stream",
     "text": [
      "Iteration 2/100: 100%|██████████| 4/4 [00:00<00:00, 42.25it/s]\n"
     ]
    },
    {
     "name": "stdout",
     "output_type": "stream",
     "text": [
      "Iteration 2, Loss: {'ner': 67.53044295310974}\n"
     ]
    },
    {
     "name": "stderr",
     "output_type": "stream",
     "text": [
      "Iteration 3/100: 100%|██████████| 4/4 [00:00<00:00, 41.58it/s]\n"
     ]
    },
    {
     "name": "stdout",
     "output_type": "stream",
     "text": [
      "Iteration 3, Loss: {'ner': 32.50542763341218}\n"
     ]
    },
    {
     "name": "stderr",
     "output_type": "stream",
     "text": [
      "Iteration 4/100: 100%|██████████| 4/4 [00:00<00:00, 41.57it/s]\n"
     ]
    },
    {
     "name": "stdout",
     "output_type": "stream",
     "text": [
      "Iteration 4, Loss: {'ner': 10.466555714255492}\n"
     ]
    },
    {
     "name": "stderr",
     "output_type": "stream",
     "text": [
      "Iteration 5/100: 100%|██████████| 4/4 [00:00<00:00, 41.89it/s]\n"
     ]
    },
    {
     "name": "stdout",
     "output_type": "stream",
     "text": [
      "Iteration 5, Loss: {'ner': 8.599403459323412}\n"
     ]
    },
    {
     "name": "stderr",
     "output_type": "stream",
     "text": [
      "Iteration 6/100: 100%|██████████| 4/4 [00:00<00:00, 41.92it/s]\n"
     ]
    },
    {
     "name": "stdout",
     "output_type": "stream",
     "text": [
      "Iteration 6, Loss: {'ner': 9.684077651602198}\n"
     ]
    },
    {
     "name": "stderr",
     "output_type": "stream",
     "text": [
      "Iteration 7/100: 100%|██████████| 4/4 [00:00<00:00, 39.68it/s]\n"
     ]
    },
    {
     "name": "stdout",
     "output_type": "stream",
     "text": [
      "Iteration 7, Loss: {'ner': 7.031636081310298}\n"
     ]
    },
    {
     "name": "stderr",
     "output_type": "stream",
     "text": [
      "Iteration 8/100: 100%|██████████| 4/4 [00:00<00:00, 38.71it/s]\n"
     ]
    },
    {
     "name": "stdout",
     "output_type": "stream",
     "text": [
      "Iteration 8, Loss: {'ner': 13.713383311585943}\n"
     ]
    },
    {
     "name": "stderr",
     "output_type": "stream",
     "text": [
      "Iteration 9/100: 100%|██████████| 4/4 [00:00<00:00, 39.71it/s]\n"
     ]
    },
    {
     "name": "stdout",
     "output_type": "stream",
     "text": [
      "Iteration 9, Loss: {'ner': 16.407342093641702}\n"
     ]
    },
    {
     "name": "stderr",
     "output_type": "stream",
     "text": [
      "Iteration 10/100: 100%|██████████| 4/4 [00:00<00:00, 40.49it/s]\n"
     ]
    },
    {
     "name": "stdout",
     "output_type": "stream",
     "text": [
      "Iteration 10, Loss: {'ner': 12.559184385048738}\n",
      "Evaluation - Precision: 0.00, Recall: 0.00, F-score: 0.00\n"
     ]
    },
    {
     "name": "stderr",
     "output_type": "stream",
     "text": [
      "Iteration 11/100: 100%|██████████| 4/4 [00:00<00:00, 41.27it/s]\n"
     ]
    },
    {
     "name": "stdout",
     "output_type": "stream",
     "text": [
      "Iteration 11, Loss: {'ner': 8.947842960478367}\n"
     ]
    },
    {
     "name": "stderr",
     "output_type": "stream",
     "text": [
      "Iteration 12/100: 100%|██████████| 4/4 [00:00<00:00, 42.08it/s]\n"
     ]
    },
    {
     "name": "stdout",
     "output_type": "stream",
     "text": [
      "Iteration 12, Loss: {'ner': 6.811150621257817}\n"
     ]
    },
    {
     "name": "stderr",
     "output_type": "stream",
     "text": [
      "Iteration 13/100: 100%|██████████| 4/4 [00:00<00:00, 40.98it/s]\n"
     ]
    },
    {
     "name": "stdout",
     "output_type": "stream",
     "text": [
      "Iteration 13, Loss: {'ner': 9.467947105163915}\n"
     ]
    },
    {
     "name": "stderr",
     "output_type": "stream",
     "text": [
      "Iteration 14/100: 100%|██████████| 4/4 [00:00<00:00, 37.18it/s]\n"
     ]
    },
    {
     "name": "stdout",
     "output_type": "stream",
     "text": [
      "Iteration 14, Loss: {'ner': 9.04102503966071}\n"
     ]
    },
    {
     "name": "stderr",
     "output_type": "stream",
     "text": [
      "Iteration 15/100: 100%|██████████| 4/4 [00:00<00:00, 37.40it/s]\n"
     ]
    },
    {
     "name": "stdout",
     "output_type": "stream",
     "text": [
      "Iteration 15, Loss: {'ner': 6.195454505500286}\n"
     ]
    },
    {
     "name": "stderr",
     "output_type": "stream",
     "text": [
      "Iteration 16/100: 100%|██████████| 4/4 [00:00<00:00, 40.94it/s]\n"
     ]
    },
    {
     "name": "stdout",
     "output_type": "stream",
     "text": [
      "Iteration 16, Loss: {'ner': 5.5602737239838795}\n"
     ]
    },
    {
     "name": "stderr",
     "output_type": "stream",
     "text": [
      "Iteration 17/100: 100%|██████████| 4/4 [00:00<00:00, 38.77it/s]\n"
     ]
    },
    {
     "name": "stdout",
     "output_type": "stream",
     "text": [
      "Iteration 17, Loss: {'ner': 3.714468747110905}\n"
     ]
    },
    {
     "name": "stderr",
     "output_type": "stream",
     "text": [
      "Iteration 18/100: 100%|██████████| 4/4 [00:00<00:00, 41.43it/s]\n"
     ]
    },
    {
     "name": "stdout",
     "output_type": "stream",
     "text": [
      "Iteration 18, Loss: {'ner': 2.1939178421143835}\n"
     ]
    },
    {
     "name": "stderr",
     "output_type": "stream",
     "text": [
      "Iteration 19/100: 100%|██████████| 4/4 [00:00<00:00, 41.39it/s]\n"
     ]
    },
    {
     "name": "stdout",
     "output_type": "stream",
     "text": [
      "Iteration 19, Loss: {'ner': 0.40179568268020915}\n"
     ]
    },
    {
     "name": "stderr",
     "output_type": "stream",
     "text": [
      "Iteration 20/100: 100%|██████████| 4/4 [00:00<00:00, 42.05it/s]\n"
     ]
    },
    {
     "name": "stdout",
     "output_type": "stream",
     "text": [
      "Iteration 20, Loss: {'ner': 0.00552745701607904}\n",
      "Evaluation - Precision: 0.00, Recall: 0.00, F-score: 0.00\n"
     ]
    },
    {
     "name": "stderr",
     "output_type": "stream",
     "text": [
      "Iteration 21/100: 100%|██████████| 4/4 [00:00<00:00, 42.34it/s]\n"
     ]
    },
    {
     "name": "stdout",
     "output_type": "stream",
     "text": [
      "Iteration 21, Loss: {'ner': 0.008134441671904469}\n"
     ]
    },
    {
     "name": "stderr",
     "output_type": "stream",
     "text": [
      "Iteration 22/100: 100%|██████████| 4/4 [00:00<00:00, 38.78it/s]\n"
     ]
    },
    {
     "name": "stdout",
     "output_type": "stream",
     "text": [
      "Iteration 22, Loss: {'ner': 0.0009374278339523024}\n"
     ]
    },
    {
     "name": "stderr",
     "output_type": "stream",
     "text": [
      "Iteration 23/100: 100%|██████████| 4/4 [00:00<00:00, 39.09it/s]\n"
     ]
    },
    {
     "name": "stdout",
     "output_type": "stream",
     "text": [
      "Iteration 23, Loss: {'ner': 2.0858276268512742e-05}\n"
     ]
    },
    {
     "name": "stderr",
     "output_type": "stream",
     "text": [
      "Iteration 24/100: 100%|██████████| 4/4 [00:00<00:00, 39.41it/s]\n"
     ]
    },
    {
     "name": "stdout",
     "output_type": "stream",
     "text": [
      "Iteration 24, Loss: {'ner': 3.7623099124094616e-05}\n"
     ]
    },
    {
     "name": "stderr",
     "output_type": "stream",
     "text": [
      "Iteration 25/100: 100%|██████████| 4/4 [00:00<00:00, 39.68it/s]\n"
     ]
    },
    {
     "name": "stdout",
     "output_type": "stream",
     "text": [
      "Iteration 25, Loss: {'ner': 2.6678131970559296e-06}\n"
     ]
    },
    {
     "name": "stderr",
     "output_type": "stream",
     "text": [
      "Iteration 26/100: 100%|██████████| 4/4 [00:00<00:00, 41.55it/s]\n"
     ]
    },
    {
     "name": "stdout",
     "output_type": "stream",
     "text": [
      "Iteration 26, Loss: {'ner': 1.445849121311184e-06}\n"
     ]
    },
    {
     "name": "stderr",
     "output_type": "stream",
     "text": [
      "Iteration 27/100: 100%|██████████| 4/4 [00:00<00:00, 41.91it/s]\n"
     ]
    },
    {
     "name": "stdout",
     "output_type": "stream",
     "text": [
      "Iteration 27, Loss: {'ner': 2.096578226649749e-05}\n"
     ]
    },
    {
     "name": "stderr",
     "output_type": "stream",
     "text": [
      "Iteration 28/100: 100%|██████████| 4/4 [00:00<00:00, 42.10it/s]\n"
     ]
    },
    {
     "name": "stdout",
     "output_type": "stream",
     "text": [
      "Iteration 28, Loss: {'ner': 1.4727847682528778e-06}\n"
     ]
    },
    {
     "name": "stderr",
     "output_type": "stream",
     "text": [
      "Iteration 29/100: 100%|██████████| 4/4 [00:00<00:00, 41.88it/s]\n"
     ]
    },
    {
     "name": "stdout",
     "output_type": "stream",
     "text": [
      "Iteration 29, Loss: {'ner': 2.322647458721907e-06}\n"
     ]
    },
    {
     "name": "stderr",
     "output_type": "stream",
     "text": [
      "Iteration 30/100: 100%|██████████| 4/4 [00:00<00:00, 39.08it/s]\n"
     ]
    },
    {
     "name": "stdout",
     "output_type": "stream",
     "text": [
      "Iteration 30, Loss: {'ner': 4.443225303734581e-07}\n",
      "Evaluation - Precision: 0.00, Recall: 0.00, F-score: 0.00\n"
     ]
    },
    {
     "name": "stderr",
     "output_type": "stream",
     "text": [
      "Iteration 31/100: 100%|██████████| 4/4 [00:00<00:00, 41.60it/s]\n"
     ]
    },
    {
     "name": "stdout",
     "output_type": "stream",
     "text": [
      "Iteration 31, Loss: {'ner': 4.107536487009152e-06}\n"
     ]
    },
    {
     "name": "stderr",
     "output_type": "stream",
     "text": [
      "Iteration 32/100: 100%|██████████| 4/4 [00:00<00:00, 41.62it/s]\n"
     ]
    },
    {
     "name": "stdout",
     "output_type": "stream",
     "text": [
      "Iteration 32, Loss: {'ner': 2.085211613812572e-05}\n"
     ]
    },
    {
     "name": "stderr",
     "output_type": "stream",
     "text": [
      "Iteration 33/100: 100%|██████████| 4/4 [00:00<00:00, 40.72it/s]\n"
     ]
    },
    {
     "name": "stdout",
     "output_type": "stream",
     "text": [
      "Iteration 33, Loss: {'ner': 2.221716115199507e-07}\n"
     ]
    },
    {
     "name": "stderr",
     "output_type": "stream",
     "text": [
      "Iteration 34/100: 100%|██████████| 4/4 [00:00<00:00, 36.62it/s]\n"
     ]
    },
    {
     "name": "stdout",
     "output_type": "stream",
     "text": [
      "Iteration 34, Loss: {'ner': 2.508235898030787e-07}\n"
     ]
    },
    {
     "name": "stderr",
     "output_type": "stream",
     "text": [
      "Iteration 35/100: 100%|██████████| 4/4 [00:00<00:00, 40.39it/s]\n"
     ]
    },
    {
     "name": "stdout",
     "output_type": "stream",
     "text": [
      "Iteration 35, Loss: {'ner': 1.5591654112404618}\n"
     ]
    },
    {
     "name": "stderr",
     "output_type": "stream",
     "text": [
      "Iteration 36/100: 100%|██████████| 4/4 [00:00<00:00, 43.24it/s]\n"
     ]
    },
    {
     "name": "stdout",
     "output_type": "stream",
     "text": [
      "Iteration 36, Loss: {'ner': 1.8612345704029057e-05}\n"
     ]
    },
    {
     "name": "stderr",
     "output_type": "stream",
     "text": [
      "Iteration 37/100: 100%|██████████| 4/4 [00:00<00:00, 42.02it/s]\n"
     ]
    },
    {
     "name": "stdout",
     "output_type": "stream",
     "text": [
      "Iteration 37, Loss: {'ner': 3.923749965041607e-07}\n"
     ]
    },
    {
     "name": "stderr",
     "output_type": "stream",
     "text": [
      "Iteration 38/100: 100%|██████████| 4/4 [00:00<00:00, 41.52it/s]\n"
     ]
    },
    {
     "name": "stdout",
     "output_type": "stream",
     "text": [
      "Iteration 38, Loss: {'ner': 2.0663388448142484e-06}\n"
     ]
    },
    {
     "name": "stderr",
     "output_type": "stream",
     "text": [
      "Iteration 39/100: 100%|██████████| 4/4 [00:00<00:00, 41.92it/s]\n"
     ]
    },
    {
     "name": "stdout",
     "output_type": "stream",
     "text": [
      "Iteration 39, Loss: {'ner': 4.9679320148714325e-05}\n"
     ]
    },
    {
     "name": "stderr",
     "output_type": "stream",
     "text": [
      "Iteration 40/100: 100%|██████████| 4/4 [00:00<00:00, 42.49it/s]\n"
     ]
    },
    {
     "name": "stdout",
     "output_type": "stream",
     "text": [
      "Iteration 40, Loss: {'ner': 1.4664981966540133e-06}\n",
      "Evaluation - Precision: 0.00, Recall: 0.00, F-score: 0.00\n"
     ]
    },
    {
     "name": "stderr",
     "output_type": "stream",
     "text": [
      "Iteration 41/100: 100%|██████████| 4/4 [00:00<00:00, 42.29it/s]\n"
     ]
    },
    {
     "name": "stdout",
     "output_type": "stream",
     "text": [
      "Iteration 41, Loss: {'ner': 1.9566885532318757e-05}\n"
     ]
    },
    {
     "name": "stderr",
     "output_type": "stream",
     "text": [
      "Iteration 42/100: 100%|██████████| 4/4 [00:00<00:00, 27.51it/s]\n"
     ]
    },
    {
     "name": "stdout",
     "output_type": "stream",
     "text": [
      "Iteration 42, Loss: {'ner': 1.1282280126460528e-06}\n"
     ]
    },
    {
     "name": "stderr",
     "output_type": "stream",
     "text": [
      "Iteration 43/100: 100%|██████████| 4/4 [00:00<00:00, 39.52it/s]\n"
     ]
    },
    {
     "name": "stdout",
     "output_type": "stream",
     "text": [
      "Iteration 43, Loss: {'ner': 3.082651176938482e-07}\n"
     ]
    },
    {
     "name": "stderr",
     "output_type": "stream",
     "text": [
      "Iteration 44/100: 100%|██████████| 4/4 [00:00<00:00, 40.66it/s]\n"
     ]
    },
    {
     "name": "stdout",
     "output_type": "stream",
     "text": [
      "Iteration 44, Loss: {'ner': 2.425790385100356e-06}\n"
     ]
    },
    {
     "name": "stderr",
     "output_type": "stream",
     "text": [
      "Iteration 45/100: 100%|██████████| 4/4 [00:00<00:00, 36.16it/s]\n"
     ]
    },
    {
     "name": "stdout",
     "output_type": "stream",
     "text": [
      "Iteration 45, Loss: {'ner': 0.003297448297145458}\n"
     ]
    },
    {
     "name": "stderr",
     "output_type": "stream",
     "text": [
      "Iteration 46/100: 100%|██████████| 4/4 [00:00<00:00, 39.58it/s]\n"
     ]
    },
    {
     "name": "stdout",
     "output_type": "stream",
     "text": [
      "Iteration 46, Loss: {'ner': 7.331385501153218e-08}\n"
     ]
    },
    {
     "name": "stderr",
     "output_type": "stream",
     "text": [
      "Iteration 47/100: 100%|██████████| 4/4 [00:00<00:00, 38.17it/s]\n"
     ]
    },
    {
     "name": "stdout",
     "output_type": "stream",
     "text": [
      "Iteration 47, Loss: {'ner': 1.7014726208445288}\n"
     ]
    },
    {
     "name": "stderr",
     "output_type": "stream",
     "text": [
      "Iteration 48/100: 100%|██████████| 4/4 [00:00<00:00, 33.44it/s]\n"
     ]
    },
    {
     "name": "stdout",
     "output_type": "stream",
     "text": [
      "Iteration 48, Loss: {'ner': 9.217106933444343e-06}\n"
     ]
    },
    {
     "name": "stderr",
     "output_type": "stream",
     "text": [
      "Iteration 49/100: 100%|██████████| 4/4 [00:00<00:00, 38.37it/s]\n"
     ]
    },
    {
     "name": "stdout",
     "output_type": "stream",
     "text": [
      "Iteration 49, Loss: {'ner': 5.271356401055653e-05}\n"
     ]
    },
    {
     "name": "stderr",
     "output_type": "stream",
     "text": [
      "Iteration 50/100: 100%|██████████| 4/4 [00:00<00:00, 41.16it/s]\n"
     ]
    },
    {
     "name": "stdout",
     "output_type": "stream",
     "text": [
      "Iteration 50, Loss: {'ner': 1.5662262269215863e-05}\n",
      "Evaluation - Precision: 0.00, Recall: 0.00, F-score: 0.00\n"
     ]
    },
    {
     "name": "stderr",
     "output_type": "stream",
     "text": [
      "Iteration 51/100: 100%|██████████| 4/4 [00:00<00:00, 39.50it/s]\n"
     ]
    },
    {
     "name": "stdout",
     "output_type": "stream",
     "text": [
      "Iteration 51, Loss: {'ner': 0.00486954188799323}\n"
     ]
    },
    {
     "name": "stderr",
     "output_type": "stream",
     "text": [
      "Iteration 52/100: 100%|██████████| 4/4 [00:00<00:00, 40.50it/s]\n"
     ]
    },
    {
     "name": "stdout",
     "output_type": "stream",
     "text": [
      "Iteration 52, Loss: {'ner': 7.537399324816329e-07}\n"
     ]
    },
    {
     "name": "stderr",
     "output_type": "stream",
     "text": [
      "Iteration 53/100: 100%|██████████| 4/4 [00:00<00:00, 38.89it/s]\n"
     ]
    },
    {
     "name": "stdout",
     "output_type": "stream",
     "text": [
      "Iteration 53, Loss: {'ner': 1.3768870628369002e-05}\n"
     ]
    },
    {
     "name": "stderr",
     "output_type": "stream",
     "text": [
      "Iteration 54/100: 100%|██████████| 4/4 [00:00<00:00, 42.08it/s]\n"
     ]
    },
    {
     "name": "stdout",
     "output_type": "stream",
     "text": [
      "Iteration 54, Loss: {'ner': 9.851442763489462e-07}\n"
     ]
    },
    {
     "name": "stderr",
     "output_type": "stream",
     "text": [
      "Iteration 55/100: 100%|██████████| 4/4 [00:00<00:00, 42.13it/s]\n"
     ]
    },
    {
     "name": "stdout",
     "output_type": "stream",
     "text": [
      "Iteration 55, Loss: {'ner': 3.0052778724448702e-06}\n"
     ]
    },
    {
     "name": "stderr",
     "output_type": "stream",
     "text": [
      "Iteration 56/100: 100%|██████████| 4/4 [00:00<00:00, 41.93it/s]\n"
     ]
    },
    {
     "name": "stdout",
     "output_type": "stream",
     "text": [
      "Iteration 56, Loss: {'ner': 1.1268198228663516e-07}\n"
     ]
    },
    {
     "name": "stderr",
     "output_type": "stream",
     "text": [
      "Iteration 57/100: 100%|██████████| 4/4 [00:00<00:00, 40.58it/s]\n"
     ]
    },
    {
     "name": "stdout",
     "output_type": "stream",
     "text": [
      "Iteration 57, Loss: {'ner': 7.456936804290774e-07}\n"
     ]
    },
    {
     "name": "stderr",
     "output_type": "stream",
     "text": [
      "Iteration 58/100: 100%|██████████| 4/4 [00:00<00:00, 38.37it/s]\n"
     ]
    },
    {
     "name": "stdout",
     "output_type": "stream",
     "text": [
      "Iteration 58, Loss: {'ner': 0.0002918072614800037}\n"
     ]
    },
    {
     "name": "stderr",
     "output_type": "stream",
     "text": [
      "Iteration 59/100: 100%|██████████| 4/4 [00:00<00:00, 40.81it/s]\n"
     ]
    },
    {
     "name": "stdout",
     "output_type": "stream",
     "text": [
      "Iteration 59, Loss: {'ner': 8.980154154052536e-07}\n"
     ]
    },
    {
     "name": "stderr",
     "output_type": "stream",
     "text": [
      "Iteration 60/100: 100%|██████████| 4/4 [00:00<00:00, 41.53it/s]\n"
     ]
    },
    {
     "name": "stdout",
     "output_type": "stream",
     "text": [
      "Iteration 60, Loss: {'ner': 2.4238621226289707e-07}\n",
      "Evaluation - Precision: 0.00, Recall: 0.00, F-score: 0.00\n"
     ]
    },
    {
     "name": "stderr",
     "output_type": "stream",
     "text": [
      "Iteration 61/100: 100%|██████████| 4/4 [00:00<00:00, 41.86it/s]\n"
     ]
    },
    {
     "name": "stdout",
     "output_type": "stream",
     "text": [
      "Iteration 61, Loss: {'ner': 8.150724854618102e-09}\n"
     ]
    },
    {
     "name": "stderr",
     "output_type": "stream",
     "text": [
      "Iteration 62/100: 100%|██████████| 4/4 [00:00<00:00, 42.55it/s]\n"
     ]
    },
    {
     "name": "stdout",
     "output_type": "stream",
     "text": [
      "Iteration 62, Loss: {'ner': 1.574144971397713e-05}\n"
     ]
    },
    {
     "name": "stderr",
     "output_type": "stream",
     "text": [
      "Iteration 63/100: 100%|██████████| 4/4 [00:00<00:00, 40.60it/s]\n"
     ]
    },
    {
     "name": "stdout",
     "output_type": "stream",
     "text": [
      "Iteration 63, Loss: {'ner': 1.4994097540680827e-08}\n"
     ]
    },
    {
     "name": "stderr",
     "output_type": "stream",
     "text": [
      "Iteration 64/100: 100%|██████████| 4/4 [00:00<00:00, 40.53it/s]\n"
     ]
    },
    {
     "name": "stdout",
     "output_type": "stream",
     "text": [
      "Iteration 64, Loss: {'ner': 6.398887850673056e-08}\n"
     ]
    },
    {
     "name": "stderr",
     "output_type": "stream",
     "text": [
      "Iteration 65/100: 100%|██████████| 4/4 [00:00<00:00, 40.97it/s]\n"
     ]
    },
    {
     "name": "stdout",
     "output_type": "stream",
     "text": [
      "Iteration 65, Loss: {'ner': 1.9447547795250833e-08}\n"
     ]
    },
    {
     "name": "stderr",
     "output_type": "stream",
     "text": [
      "Iteration 66/100: 100%|██████████| 4/4 [00:00<00:00, 33.14it/s]\n"
     ]
    },
    {
     "name": "stdout",
     "output_type": "stream",
     "text": [
      "Iteration 66, Loss: {'ner': 9.117059992440974e-08}\n"
     ]
    },
    {
     "name": "stderr",
     "output_type": "stream",
     "text": [
      "Iteration 67/100: 100%|██████████| 4/4 [00:00<00:00, 40.84it/s]\n"
     ]
    },
    {
     "name": "stdout",
     "output_type": "stream",
     "text": [
      "Iteration 67, Loss: {'ner': 2.995755247733691e-06}\n"
     ]
    },
    {
     "name": "stderr",
     "output_type": "stream",
     "text": [
      "Iteration 68/100: 100%|██████████| 4/4 [00:00<00:00, 36.01it/s]\n"
     ]
    },
    {
     "name": "stdout",
     "output_type": "stream",
     "text": [
      "Iteration 68, Loss: {'ner': 7.123455972071525e-08}\n"
     ]
    },
    {
     "name": "stderr",
     "output_type": "stream",
     "text": [
      "Iteration 69/100: 100%|██████████| 4/4 [00:00<00:00, 39.48it/s]\n"
     ]
    },
    {
     "name": "stdout",
     "output_type": "stream",
     "text": [
      "Iteration 69, Loss: {'ner': 3.318128760148255e-08}\n"
     ]
    },
    {
     "name": "stderr",
     "output_type": "stream",
     "text": [
      "Iteration 70/100: 100%|██████████| 4/4 [00:00<00:00, 37.07it/s]\n"
     ]
    },
    {
     "name": "stdout",
     "output_type": "stream",
     "text": [
      "Iteration 70, Loss: {'ner': 9.14383657421906e-09}\n",
      "Evaluation - Precision: 0.00, Recall: 0.00, F-score: 0.00\n"
     ]
    },
    {
     "name": "stderr",
     "output_type": "stream",
     "text": [
      "Iteration 71/100: 100%|██████████| 4/4 [00:00<00:00, 39.68it/s]\n"
     ]
    },
    {
     "name": "stdout",
     "output_type": "stream",
     "text": [
      "Iteration 71, Loss: {'ner': 2.685504641841341e-08}\n"
     ]
    },
    {
     "name": "stderr",
     "output_type": "stream",
     "text": [
      "Iteration 72/100: 100%|██████████| 4/4 [00:00<00:00, 37.74it/s]\n"
     ]
    },
    {
     "name": "stdout",
     "output_type": "stream",
     "text": [
      "Iteration 72, Loss: {'ner': 5.488747269828778e-08}\n"
     ]
    },
    {
     "name": "stderr",
     "output_type": "stream",
     "text": [
      "Iteration 73/100: 100%|██████████| 4/4 [00:00<00:00, 33.00it/s]\n"
     ]
    },
    {
     "name": "stdout",
     "output_type": "stream",
     "text": [
      "Iteration 73, Loss: {'ner': 9.720494245660729e-08}\n"
     ]
    },
    {
     "name": "stderr",
     "output_type": "stream",
     "text": [
      "Iteration 74/100: 100%|██████████| 4/4 [00:00<00:00, 34.30it/s]\n"
     ]
    },
    {
     "name": "stdout",
     "output_type": "stream",
     "text": [
      "Iteration 74, Loss: {'ner': 1.3738871933129694e-08}\n"
     ]
    },
    {
     "name": "stderr",
     "output_type": "stream",
     "text": [
      "Iteration 75/100: 100%|██████████| 4/4 [00:00<00:00, 38.16it/s]\n"
     ]
    },
    {
     "name": "stdout",
     "output_type": "stream",
     "text": [
      "Iteration 75, Loss: {'ner': 9.970937865275277e-07}\n"
     ]
    },
    {
     "name": "stderr",
     "output_type": "stream",
     "text": [
      "Iteration 76/100: 100%|██████████| 4/4 [00:00<00:00, 32.28it/s]\n"
     ]
    },
    {
     "name": "stdout",
     "output_type": "stream",
     "text": [
      "Iteration 76, Loss: {'ner': 3.039561636294616e-07}\n"
     ]
    },
    {
     "name": "stderr",
     "output_type": "stream",
     "text": [
      "Iteration 77/100: 100%|██████████| 4/4 [00:00<00:00, 40.76it/s]\n"
     ]
    },
    {
     "name": "stdout",
     "output_type": "stream",
     "text": [
      "Iteration 77, Loss: {'ner': 7.156685395598836e-08}\n"
     ]
    },
    {
     "name": "stderr",
     "output_type": "stream",
     "text": [
      "Iteration 78/100: 100%|██████████| 4/4 [00:00<00:00, 29.84it/s]\n"
     ]
    },
    {
     "name": "stdout",
     "output_type": "stream",
     "text": [
      "Iteration 78, Loss: {'ner': 3.710965311109102e-08}\n"
     ]
    },
    {
     "name": "stderr",
     "output_type": "stream",
     "text": [
      "Iteration 79/100: 100%|██████████| 4/4 [00:00<00:00, 30.03it/s]\n"
     ]
    },
    {
     "name": "stdout",
     "output_type": "stream",
     "text": [
      "Iteration 79, Loss: {'ner': 5.249314686289598e-08}\n"
     ]
    },
    {
     "name": "stderr",
     "output_type": "stream",
     "text": [
      "Iteration 80/100: 100%|██████████| 4/4 [00:00<00:00, 26.22it/s]\n"
     ]
    },
    {
     "name": "stdout",
     "output_type": "stream",
     "text": [
      "Iteration 80, Loss: {'ner': 2.43235874793641e-08}\n",
      "Evaluation - Precision: 0.00, Recall: 0.00, F-score: 0.00\n"
     ]
    },
    {
     "name": "stderr",
     "output_type": "stream",
     "text": [
      "Iteration 81/100: 100%|██████████| 4/4 [00:00<00:00, 38.39it/s]\n"
     ]
    },
    {
     "name": "stdout",
     "output_type": "stream",
     "text": [
      "Iteration 81, Loss: {'ner': 1.3822728101425112e-08}\n"
     ]
    },
    {
     "name": "stderr",
     "output_type": "stream",
     "text": [
      "Iteration 82/100: 100%|██████████| 4/4 [00:00<00:00, 39.54it/s]\n"
     ]
    },
    {
     "name": "stdout",
     "output_type": "stream",
     "text": [
      "Iteration 82, Loss: {'ner': 1.7231255864714855e-08}\n"
     ]
    },
    {
     "name": "stderr",
     "output_type": "stream",
     "text": [
      "Iteration 83/100: 100%|██████████| 4/4 [00:00<00:00, 39.62it/s]\n"
     ]
    },
    {
     "name": "stdout",
     "output_type": "stream",
     "text": [
      "Iteration 83, Loss: {'ner': 1.5730599097331557}\n"
     ]
    },
    {
     "name": "stderr",
     "output_type": "stream",
     "text": [
      "Iteration 84/100: 100%|██████████| 4/4 [00:00<00:00, 40.26it/s]\n"
     ]
    },
    {
     "name": "stdout",
     "output_type": "stream",
     "text": [
      "Iteration 84, Loss: {'ner': 4.968822377347693e-06}\n"
     ]
    },
    {
     "name": "stderr",
     "output_type": "stream",
     "text": [
      "Iteration 85/100: 100%|██████████| 4/4 [00:00<00:00, 34.40it/s]\n"
     ]
    },
    {
     "name": "stdout",
     "output_type": "stream",
     "text": [
      "Iteration 85, Loss: {'ner': 3.4038285922804974e-06}\n"
     ]
    },
    {
     "name": "stderr",
     "output_type": "stream",
     "text": [
      "Iteration 86/100: 100%|██████████| 4/4 [00:00<00:00, 33.27it/s]\n"
     ]
    },
    {
     "name": "stdout",
     "output_type": "stream",
     "text": [
      "Iteration 86, Loss: {'ner': 0.0002621224625647358}\n"
     ]
    },
    {
     "name": "stderr",
     "output_type": "stream",
     "text": [
      "Iteration 87/100: 100%|██████████| 4/4 [00:00<00:00, 37.41it/s]\n"
     ]
    },
    {
     "name": "stdout",
     "output_type": "stream",
     "text": [
      "Iteration 87, Loss: {'ner': 4.07507991582964e-07}\n"
     ]
    },
    {
     "name": "stderr",
     "output_type": "stream",
     "text": [
      "Iteration 88/100: 100%|██████████| 4/4 [00:00<00:00, 38.41it/s]\n"
     ]
    },
    {
     "name": "stdout",
     "output_type": "stream",
     "text": [
      "Iteration 88, Loss: {'ner': 2.868286717523458e-06}\n"
     ]
    },
    {
     "name": "stderr",
     "output_type": "stream",
     "text": [
      "Iteration 89/100: 100%|██████████| 4/4 [00:00<00:00, 40.62it/s]\n"
     ]
    },
    {
     "name": "stdout",
     "output_type": "stream",
     "text": [
      "Iteration 89, Loss: {'ner': 1.9965308849386363e-06}\n"
     ]
    },
    {
     "name": "stderr",
     "output_type": "stream",
     "text": [
      "Iteration 90/100: 100%|██████████| 4/4 [00:00<00:00, 38.30it/s]\n"
     ]
    },
    {
     "name": "stdout",
     "output_type": "stream",
     "text": [
      "Iteration 90, Loss: {'ner': 2.5083319518078015e-07}\n",
      "Evaluation - Precision: 0.00, Recall: 0.00, F-score: 0.00\n"
     ]
    },
    {
     "name": "stderr",
     "output_type": "stream",
     "text": [
      "Iteration 91/100: 100%|██████████| 4/4 [00:00<00:00, 39.33it/s]\n"
     ]
    },
    {
     "name": "stdout",
     "output_type": "stream",
     "text": [
      "Iteration 91, Loss: {'ner': 2.96316852819028e-05}\n"
     ]
    },
    {
     "name": "stderr",
     "output_type": "stream",
     "text": [
      "Iteration 92/100: 100%|██████████| 4/4 [00:00<00:00, 36.84it/s]\n"
     ]
    },
    {
     "name": "stdout",
     "output_type": "stream",
     "text": [
      "Iteration 92, Loss: {'ner': 1.0986265277595719e-07}\n"
     ]
    },
    {
     "name": "stderr",
     "output_type": "stream",
     "text": [
      "Iteration 93/100: 100%|██████████| 4/4 [00:00<00:00, 34.83it/s]\n"
     ]
    },
    {
     "name": "stdout",
     "output_type": "stream",
     "text": [
      "Iteration 93, Loss: {'ner': 1.1303924439672357e-07}\n"
     ]
    },
    {
     "name": "stderr",
     "output_type": "stream",
     "text": [
      "Iteration 94/100: 100%|██████████| 4/4 [00:00<00:00, 40.20it/s]\n"
     ]
    },
    {
     "name": "stdout",
     "output_type": "stream",
     "text": [
      "Iteration 94, Loss: {'ner': 3.232201214797269e-08}\n"
     ]
    },
    {
     "name": "stderr",
     "output_type": "stream",
     "text": [
      "Iteration 95/100: 100%|██████████| 4/4 [00:00<00:00, 37.69it/s]\n"
     ]
    },
    {
     "name": "stdout",
     "output_type": "stream",
     "text": [
      "Iteration 95, Loss: {'ner': 3.706531237679611e-05}\n"
     ]
    },
    {
     "name": "stderr",
     "output_type": "stream",
     "text": [
      "Iteration 96/100: 100%|██████████| 4/4 [00:00<00:00, 40.35it/s]\n"
     ]
    },
    {
     "name": "stdout",
     "output_type": "stream",
     "text": [
      "Iteration 96, Loss: {'ner': 1.868606358685243e-05}\n"
     ]
    },
    {
     "name": "stderr",
     "output_type": "stream",
     "text": [
      "Iteration 97/100: 100%|██████████| 4/4 [00:00<00:00, 37.35it/s]\n"
     ]
    },
    {
     "name": "stdout",
     "output_type": "stream",
     "text": [
      "Iteration 97, Loss: {'ner': 6.860757960786105e-10}\n"
     ]
    },
    {
     "name": "stderr",
     "output_type": "stream",
     "text": [
      "Iteration 98/100: 100%|██████████| 4/4 [00:00<00:00, 41.16it/s]\n"
     ]
    },
    {
     "name": "stdout",
     "output_type": "stream",
     "text": [
      "Iteration 98, Loss: {'ner': 0.00018222966133523062}\n"
     ]
    },
    {
     "name": "stderr",
     "output_type": "stream",
     "text": [
      "Iteration 99/100: 100%|██████████| 4/4 [00:00<00:00, 41.46it/s]\n"
     ]
    },
    {
     "name": "stdout",
     "output_type": "stream",
     "text": [
      "Iteration 99, Loss: {'ner': 8.852585313493656e-08}\n"
     ]
    },
    {
     "name": "stderr",
     "output_type": "stream",
     "text": [
      "Iteration 100/100: 100%|██████████| 4/4 [00:00<00:00, 41.81it/s]"
     ]
    },
    {
     "name": "stdout",
     "output_type": "stream",
     "text": [
      "Iteration 100, Loss: {'ner': 4.666899653841235e-07}\n",
      "Evaluation - Precision: 0.00, Recall: 0.00, F-score: 0.00\n",
      "Model saved to healthcare_ner_model\n",
      "\n",
      "Testing NER model...\n",
      "--------------------------------------------------\n",
      "\n",
      "Input: Tell me about Dental EMR.\n",
      "Parsed: Tell me about [Dental:PRODUCT] [EMR:PRODUCT] [.:PRODUCT]\n",
      "Entities: [('Dental EMR.', 'PRODUCT')]\n",
      "--------------------------------------------------\n",
      "\n",
      "Input: Do you provide Telemedicine Solutions?\n",
      "Parsed: Do you provide Telemedicine Solutions ?\n",
      "Entities: []\n",
      "--------------------------------------------------\n",
      "\n",
      "Input: I need help with Revenue Cycle Management.\n",
      "Parsed: I need help with Revenue [Cycle:PRODUCT] [Management:PRODUCT] [.:PRODUCT]\n",
      "Entities: [('Cycle Management.', 'PRODUCT')]\n",
      "--------------------------------------------------\n",
      "\n",
      "Input: What are the features of Practice Management Software?\n",
      "Parsed: What are the features of [Practice:PRODUCT] [Management:PRODUCT] [Software:PRODUCT] ?\n",
      "Entities: [('Practice Management Software', 'PRODUCT')]\n",
      "--------------------------------------------------\n",
      "\n",
      "Input: Does your company offer Medical Billing?\n",
      "Parsed: Does your company offer [Medical:SERVICE] [Billing:SERVICE] ?\n",
      "Entities: [('Medical Billing', 'SERVICE')]\n",
      "--------------------------------------------------\n",
      "\n",
      "Input: Our clinic uses a different Dental EMR platform.\n",
      "Parsed: Our clinic uses a different [Dental:PRODUCT] [EMR:PRODUCT] [platform:PRODUCT] .\n",
      "Entities: [('Dental EMR platform', 'PRODUCT')]\n",
      "--------------------------------------------------\n",
      "\n",
      "Input: Can we integrate your Medical Billing with our system?\n",
      "Parsed: Can we integrate your [Medical:SERVICE] [Billing:SERVICE] with our system ?\n",
      "Entities: [('Medical Billing', 'SERVICE')]\n",
      "--------------------------------------------------\n",
      "\n",
      "Input: How secure is your Telemedicine Solutions platform?\n",
      "Parsed: How secure is your Telemedicine Solutions platform ?\n",
      "Entities: []\n",
      "--------------------------------------------------\n",
      "\n",
      "To install the spaCy model for better results next time, run:\n",
      "python -m spacy download en_core_web_sm\n"
     ]
    },
    {
     "name": "stderr",
     "output_type": "stream",
     "text": [
      "\n"
     ]
    }
   ],
   "source": [
    "import spacy\n",
    "from spacy.tokens import DocBin\n",
    "from spacy.training import Example\n",
    "import random\n",
    "import os\n",
    "from tqdm import tqdm\n",
    "\n",
    "# Try to import tqdm for progress bars, fall back to a simple function if not available\n",
    "try:\n",
    "    from tqdm import tqdm\n",
    "except ImportError:\n",
    "    # Simple function to use if tqdm is not available\n",
    "    def tqdm(iterable, **kwargs):\n",
    "        print(f\"Starting {kwargs.get('desc', 'process')}...\")\n",
    "        return iterable\n",
    "\n",
    "# Expanded training data with variations\n",
    "TRAIN_DATA = [\n",
    "    # Original examples\n",
    "    (\"I want to buy Dental EMR.\", {\"entities\": [(16, 27, \"PRODUCT\")]}),\n",
    "    (\"Does your company sell Dental EMR software?\", {\"entities\": [(24, 34, \"PRODUCT\")]}),\n",
    "    (\"Can I get details on Practice Management Software?\", {\"entities\": [(21, 49, \"PRODUCT\")]}),\n",
    "    (\"Tell me about your Revenue Cycle Management service.\", {\"entities\": [(19, 48, \"SERVICE\")]}),\n",
    "    (\"Does your service include Medical Billing?\", {\"entities\": [(26, 40, \"SERVICE\")]}),\n",
    "    (\"What are the benefits of Telemedicine Solutions?\", {\"entities\": [(24, 47, \"PRODUCT\")]}),\n",
    "    (\"I'm interested in a cloud-based Dental EMR system.\", {\"entities\": [(28, 38, \"PRODUCT\")]}),\n",
    "    (\"How does your Medical Billing software work?\", {\"entities\": [(12, 27, \"SERVICE\")]}),\n",
    "    (\"Can you provide a demo of Revenue Cycle Management?\", {\"entities\": [(25, 54, \"SERVICE\")]}),\n",
    "    (\"Do you offer cloud-based Telemedicine Solutions?\", {\"entities\": [(23, 46, \"PRODUCT\")]}),\n",
    "    \n",
    "    # Additional examples to improve detection\n",
    "    (\"Tell me about Dental EMR.\", {\"entities\": [(14, 25, \"PRODUCT\")]}),\n",
    "    (\"I need information on Dental EMR products.\", {\"entities\": [(21, 32, \"PRODUCT\")]}),\n",
    "    (\"Telemedicine Solutions are becoming popular.\", {\"entities\": [(0, 23, \"PRODUCT\")]}),\n",
    "    (\"Revenue Cycle Management improves cashflow.\", {\"entities\": [(0, 29, \"SERVICE\")]}),\n",
    "    (\"Medical Billing services can reduce costs.\", {\"entities\": [(0, 15, \"SERVICE\")]}),\n",
    "    (\"We specialize in Practice Management Software.\", {\"entities\": [(17, 45, \"PRODUCT\")]}),\n",
    "    (\"Is Dental EMR included in your package?\", {\"entities\": [(3, 14, \"PRODUCT\")]}),\n",
    "    (\"How much does the Telemedicine Solutions cost?\", {\"entities\": [(18, 41, \"PRODUCT\")]}),\n",
    "    (\"Are your Revenue Cycle Management tools cloud-based?\", {\"entities\": [(9, 38, \"SERVICE\")]}),\n",
    "    (\"Medical Billing is essential for healthcare providers.\", {\"entities\": [(0, 15, \"SERVICE\")]})\n",
    "]\n",
    "\n",
    "# Function to create and train NER model\n",
    "def train_healthcare_ner(use_pretrained=False):\n",
    "    # Create NLP object - try to use pretrained model if requested\n",
    "    if use_pretrained:\n",
    "        try:\n",
    "            print(\"Attempting to load pretrained model...\")\n",
    "            nlp = spacy.load(\"en_core_web_sm\")\n",
    "            print(\"Pretrained model loaded successfully!\")\n",
    "        except Exception as e:\n",
    "            print(f\"Could not load pretrained model: {e}\")\n",
    "            print(\"Falling back to blank model...\")\n",
    "            nlp = spacy.blank(\"en\")\n",
    "    else:\n",
    "        print(\"Using blank model as requested...\")\n",
    "        nlp = spacy.blank(\"en\")\n",
    "    \n",
    "    # Add NER pipeline if not present\n",
    "    if \"ner\" not in nlp.pipe_names:\n",
    "        ner = nlp.add_pipe(\"ner\", last=True)\n",
    "        print(\"Added NER pipeline component.\")\n",
    "    else:\n",
    "        ner = nlp.get_pipe(\"ner\")\n",
    "        print(\"Using existing NER pipeline component.\")\n",
    "    \n",
    "    # Add entity labels\n",
    "    print(\"Adding entity labels...\")\n",
    "    labels = set()\n",
    "    for _, annotations in TRAIN_DATA:\n",
    "        for ent in annotations.get(\"entities\"):\n",
    "            labels.add(ent[2])\n",
    "    \n",
    "    for label in labels:\n",
    "        ner.add_label(label)\n",
    "    print(f\"Added {len(labels)} labels: {', '.join(labels)}\")\n",
    "    \n",
    "    # Split data into training and evaluation sets (80/20 split)\n",
    "    print(\"Splitting data into training and evaluation sets...\")\n",
    "    random.shuffle(TRAIN_DATA)\n",
    "    split = int(len(TRAIN_DATA) * 0.8)\n",
    "    train_data = TRAIN_DATA[:split]\n",
    "    eval_data = TRAIN_DATA[split:]\n",
    "    print(f\"Training data: {len(train_data)} examples\")\n",
    "    print(f\"Evaluation data: {len(eval_data)} examples\")\n",
    "    \n",
    "    # Configure training parameters\n",
    "    n_iter = 100\n",
    "    batch_size = 4\n",
    "    \n",
    "    # Disable other pipelines during training for better performance\n",
    "    other_pipes = [pipe for pipe in nlp.pipe_names if pipe != \"ner\"]\n",
    "    print(f\"Disabling other pipelines during training: {', '.join(other_pipes) if other_pipes else 'none'}\")\n",
    "    \n",
    "    # Train with better parameters\n",
    "    with nlp.disable_pipes(*other_pipes):\n",
    "        # Only train NER\n",
    "        optimizer = nlp.begin_training()\n",
    "        print(f\"Starting training for {n_iter} iterations...\")\n",
    "        \n",
    "        # Training loop\n",
    "        for i in range(n_iter):\n",
    "            # Shuffle training data\n",
    "            random.shuffle(train_data)\n",
    "            batches = list(spacy.util.minibatch(train_data, size=batch_size))\n",
    "            losses = {}\n",
    "            \n",
    "            # Process batches with progress bar\n",
    "            for batch in tqdm(batches, desc=f\"Iteration {i+1}/{n_iter}\"):\n",
    "                examples = []\n",
    "                for text, annotations in batch:\n",
    "                    doc = nlp.make_doc(text)\n",
    "                    example = Example.from_dict(doc, annotations)\n",
    "                    examples.append(example)\n",
    "                \n",
    "                # Update with appropriate dropout (higher to prevent overfitting)\n",
    "                nlp.update(\n",
    "                    examples,\n",
    "                    drop=0.3,\n",
    "                    losses=losses,\n",
    "                    sgd=optimizer\n",
    "                )\n",
    "            \n",
    "            # Print loss for this iteration\n",
    "            print(f\"Iteration {i+1}, Loss: {losses}\")\n",
    "            \n",
    "            # Evaluate on the evaluation set every 10 iterations\n",
    "            if i % 10 == 9 or i == n_iter - 1:\n",
    "                # Calculate evaluation metrics\n",
    "                correct = 0\n",
    "                total_gold = 0\n",
    "                total_pred = 0\n",
    "                \n",
    "                for text, annot in eval_data:\n",
    "                    doc_gold_text = nlp.make_doc(text)\n",
    "                    gold = Example.from_dict(doc_gold_text, annot)\n",
    "                    pred_value = nlp(text)\n",
    "                    \n",
    "                    gold_ents = set([(ent.text, ent.label_) for ent in gold.reference.ents])\n",
    "                    pred_ents = set([(ent.text, ent.label_) for ent in pred_value.ents])\n",
    "                    \n",
    "                    correct += len(gold_ents & pred_ents)\n",
    "                    total_gold += len(gold_ents)\n",
    "                    total_pred += len(pred_ents)\n",
    "                \n",
    "                precision = correct / total_pred if total_pred > 0 else 0\n",
    "                recall = correct / total_gold if total_gold > 0 else 0\n",
    "                f_score = 2 * precision * recall / (precision + recall) if (precision + recall) > 0 else 0\n",
    "                \n",
    "                print(f\"Evaluation - Precision: {precision:.2f}, Recall: {recall:.2f}, F-score: {f_score:.2f}\")\n",
    "    \n",
    "    # Save the trained model\n",
    "    output_dir = \"healthcare_ner_model\"\n",
    "    if not os.path.exists(output_dir):\n",
    "        os.makedirs(output_dir)\n",
    "        \n",
    "    nlp.to_disk(output_dir)\n",
    "    print(f\"Model saved to {output_dir}\")\n",
    "    \n",
    "    return nlp, output_dir\n",
    "\n",
    "# Test function with detailed output\n",
    "def test_ner_model(nlp, test_sentences):\n",
    "    print(\"\\nTesting NER model...\\n\" + \"-\" * 50)\n",
    "    \n",
    "    for sentence in test_sentences:\n",
    "        doc = nlp(sentence)\n",
    "        \n",
    "        # Print sentence with highlighted entities\n",
    "        tokens = []\n",
    "        for token in doc:\n",
    "            if token.ent_type_:\n",
    "                tokens.append(f\"[{token.text}:{token.ent_type_}]\")\n",
    "            else:\n",
    "                tokens.append(token.text)\n",
    "        \n",
    "        highlighted = \" \".join(tokens)\n",
    "        \n",
    "        print(f\"\\nInput: {sentence}\")\n",
    "        print(f\"Parsed: {highlighted}\")\n",
    "        print(f\"Entities: {[(ent.text, ent.label_) for ent in doc.ents]}\")\n",
    "        print(\"-\" * 50)\n",
    "\n",
    "# Main execution\n",
    "if __name__ == \"__main__\":\n",
    "    # First try with blank model - this will always work\n",
    "    print(\"=\" * 70)\n",
    "    print(\"TRAINING WITH BLANK MODEL\")\n",
    "    print(\"=\" * 70)\n",
    "    nlp, model_dir = train_healthcare_ner(use_pretrained=False)\n",
    "    \n",
    "    # Test sentences\n",
    "    test_sentences = [\n",
    "        \"Tell me about Dental EMR.\",\n",
    "        \"Do you provide Telemedicine Solutions?\",\n",
    "        \"I need help with Revenue Cycle Management.\",\n",
    "        \"What are the features of Practice Management Software?\",\n",
    "        \"Does your company offer Medical Billing?\",\n",
    "        # New sentences\n",
    "        \"Our clinic uses a different Dental EMR platform.\",\n",
    "        \"Can we integrate your Medical Billing with our system?\",\n",
    "        \"How secure is your Telemedicine Solutions platform?\",\n",
    "    ]\n",
    "    \n",
    "    # Test the model\n",
    "    test_ner_model(nlp, test_sentences)\n",
    "    \n",
    "    print(\"\\nTo install the spaCy model for better results next time, run:\")\n",
    "    print(\"python -m spacy download en_core_web_sm\")"
   ]
  },
  {
   "cell_type": "markdown",
   "metadata": {},
   "source": [
    "### **The training and all the tests are for sample, not completed that is why all the entities not show up in the output file**"
   ]
  },
  {
   "cell_type": "markdown",
   "metadata": {},
   "source": [
    "## **4️. Integrate NER into the Sales Chatbot**\n",
    "Once you extract the product/service from a customer query, you can:\n",
    "\n",
    "Recommend relevant features\n",
    "\n",
    "Route to the correct sales team\n",
    "\n",
    "Answer FAQs\n",
    "\n",
    "Example flow:\n",
    "\n",
    "Customer: \"Tell me about Dental EMR.\"\n",
    "\n",
    "NER detects \"Dental EMR\" → PRODUCT\n",
    "\n",
    "Chatbot fetches product details and responds."
   ]
  },
  {
   "cell_type": "markdown",
   "metadata": {},
   "source": [
    "## **5. SUGGESTIONS**\n",
    "\n",
    "1. Intent Recognition & Classification\n",
    "   Instead of just identifying keywords, classify the user's intent (e.g., Inquiry, Purchase Request, Pricing, Comparison, Support). You can use:\n",
    "\n",
    "   Transformer models (BERT, DistilBERT) for intent classification.\n",
    "   Rule-based + ML hybrid approach (e.g., regex for FAQs + ML for complex queries).\n",
    "\n",
    "2. Contextual Memory & Conversation Flow\n",
    "   Make the chatbot remember previous interactions within a session to provide personalized responses.\n",
    "\n",
    "   Short-term memory (e.g., remembering the user is asking about \"Dental EMR\" throughout the chat).\n",
    "   Long-term memory (e.g., if they return later, recall past interactions using a database).\n",
    "\n",
    "3. Recommendation System\n",
    "   If a customer inquires about a product, suggest related products dynamically.\n",
    "\n",
    "   Use collaborative filtering (like Amazon’s recommendations).\n",
    "   Suggest based on customer history or preferences.\n",
    "\n",
    "4. Dynamic FAQ Search Using Vector Search (Semantic Search)\n",
    "   Instead of relying on predefined keyword matches, let the chatbot understand semantic meaning using:\n",
    "\n",
    "   FAISS / Pinecone for vector-based retrieval.\n",
    "   BERT-based embeddings to match similar queries intelligently.\n",
    "   Example: A customer asks, “What are the features of your EMR?” → Instead of static responses, fetch the most relevant FAQ dynamically.\n",
    "\n",
    "5. Sentiment Analysis & Tone Adjustment\n",
    "   Detect if the customer is frustrated, happy, or confused and adjust the chatbot’s response tone accordingly.\n",
    "\n",
    "   Upset users? Offer faster escalation to human support.\n",
    "   Happy users? Recommend related products or upsell features.\n",
    "\n",
    "6. Multimodal Chatbot (Voice + Text + Images)\n",
    "   Instead of just text-based responses:\n",
    "\n",
    "   Use speech-to-text (Whisper, Vosk, Google Speech API) for voice input.\n",
    "   Show images/videos of products when customers ask.\n",
    "   If they upload a document or screenshot, analyze it with OCR (Tesseract, EasyOCR)."
   ]
  },
  {
   "cell_type": "markdown",
   "metadata": {},
   "source": []
  }
 ],
 "metadata": {
  "kernelspec": {
   "display_name": "Python 3",
   "language": "python",
   "name": "python3"
  },
  "language_info": {
   "codemirror_mode": {
    "name": "ipython",
    "version": 3
   },
   "file_extension": ".py",
   "mimetype": "text/x-python",
   "name": "python",
   "nbconvert_exporter": "python",
   "pygments_lexer": "ipython3",
   "version": "3.9.21"
  }
 },
 "nbformat": 4,
 "nbformat_minor": 2
}
